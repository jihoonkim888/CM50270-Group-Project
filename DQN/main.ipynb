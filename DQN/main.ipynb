{
 "cells": [
  {
   "cell_type": "code",
   "execution_count": 1,
   "id": "7f5d7c5a",
   "metadata": {
    "colab": {
     "base_uri": "https://localhost:8080/"
    },
    "id": "7f5d7c5a",
    "outputId": "253ca5ec-4d84-4c3f-ba4b-3123197efcf4"
   },
   "outputs": [],
   "source": [
    "# dependencies\n",
    "# !pip install gym box2d "
   ]
  },
  {
   "cell_type": "code",
   "execution_count": 2,
   "id": "58e516fb",
   "metadata": {
    "colab": {
     "base_uri": "https://localhost:8080/"
    },
    "id": "58e516fb",
    "outputId": "2988ea47-9601-4e1c-bd19-ad664471c048"
   },
   "outputs": [],
   "source": [
    "import os \n",
    "# os.environ['CUDA_VISIBLE_DEVICES'] = '4' # For Hex\n",
    "# os.environ['KMP_DUPLICATE_LIB_OK']='True' # For Intel Mac"
   ]
  },
  {
   "cell_type": "code",
   "execution_count": 3,
   "id": "3fa7a298",
   "metadata": {
    "id": "3fa7a298"
   },
   "outputs": [],
   "source": [
    "import time\n",
    "import gym"
   ]
  },
  {
   "cell_type": "code",
   "execution_count": 4,
   "id": "b7283ae5",
   "metadata": {},
   "outputs": [],
   "source": [
    "### Import agent py file here\n",
    "import DQN"
   ]
  },
  {
   "cell_type": "code",
   "execution_count": 5,
   "id": "25a4354f",
   "metadata": {
    "colab": {
     "base_uri": "https://localhost:8080/"
    },
    "id": "25a4354f",
    "outputId": "da762806-7301-44ee-97b9-0b040c70b313"
   },
   "outputs": [],
   "source": [
    "dqn_agent = DQN.Agent(lr=0.001, gamma=0.99, epsilon=1.0, epsilon_decay=0.995, batch_size=64)"
   ]
  },
  {
   "cell_type": "code",
   "execution_count": 6,
   "id": "522378a6",
   "metadata": {
    "id": "522378a6"
   },
   "outputs": [],
   "source": [
    "env = gym.make(\"LunarLander-v2\")\n",
    "spec = gym.spec(\"LunarLander-v2\")\n"
   ]
  },
  {
   "cell_type": "code",
   "execution_count": 7,
   "id": "3e6b1330",
   "metadata": {},
   "outputs": [],
   "source": [
    "# ### TRAIN\n",
    "# t_start = time.perf_counter()\n",
    "\n",
    "# scores, avg_scores = dqn_agent.train_model(env, num_episodes)\n",
    "\n",
    "# t_end = time.perf_counter()\n",
    "\n",
    "# print(f\"Finished in {t_end-t_start} seconds\")"
   ]
  },
  {
   "cell_type": "code",
   "execution_count": 8,
   "id": "fc26c775",
   "metadata": {
    "scrolled": false
   },
   "outputs": [
    {
     "name": "stdout",
     "output_type": "stream",
     "text": [
      "WARNING:tensorflow:Layer dense is casting an input tensor from dtype float32 to the layer's dtype of float64, which is new behavior in TensorFlow 2.  The layer has dtype float64 because it's dtype defaults to floatx.\n",
      "\n",
      "If you intended to run this layer in float64, you can safely ignore this warning. If in doubt, this warning is likely only an issue if you are porting a TensorFlow 1.X model to TensorFlow 2.\n",
      "\n",
      "To change all layers to have dtype float32 by default, call `tf.keras.backend.set_floatx('float32')`. To change just this layer, pass dtype='float32' to the layer constructor. If you are the author of this layer, you can disable autocasting by passing autocast=False to the base Layer constructor.\n",
      "\n",
      "WARNING:tensorflow:From /Users/jihoon/anaconda3/envs/rl/lib/python3.6/site-packages/tensorflow_core/python/ops/resource_variable_ops.py:1781: calling BaseResourceVariable.__init__ (from tensorflow.python.ops.resource_variable_ops) with constraint is deprecated and will be removed in a future version.\n",
      "Instructions for updating:\n",
      "If using Keras pass *_constraint arguments to layers.\n",
      "INFO:tensorflow:Assets written to: saved_networks/dqn_model_4_0.001_0.99_es/assets\n",
      "Start rendering...\n",
      "state: [-0.00570688  1.4197946  -0.57805616  0.39440694  0.00661959  0.13093832\n",
      "  0.          0.        ]\n",
      "state: [-0.00157719  1.4006631  -0.1597759  -0.45586267  0.00183444  0.03619165\n",
      "  0.          0.        ]\n",
      "state: [ 0.00610819  1.421573    0.6186804   0.4734523  -0.00707111 -0.14014044\n",
      "  0.          0.        ]\n",
      "state: [ 0.0075984   1.4028416   0.76963526 -0.3590783  -0.00879802 -0.17433392\n",
      "  0.          0.        ]\n",
      "state: [-0.00506792  1.4118805  -0.5133566   0.04267592  0.00587941  0.1162829\n",
      "  0.          0.        ]\n",
      "Done!\n"
     ]
    }
   ],
   "source": [
    "# TEST RENDER\n",
    "num_episodes = 5 # how many episodes to run for test render\n",
    "\n",
    "file_path = 'saved_networks/dqn_model_338_0.0001_0.99/net_weights_338_0.0001_0.99.h5' # h5 weight or tf model file path here\n",
    "dqn_agent.test(env, num_episodes, file_path)"
   ]
  },
  {
   "cell_type": "code",
   "execution_count": null,
   "id": "1fa48974",
   "metadata": {},
   "outputs": [],
   "source": []
  }
 ],
 "metadata": {
  "accelerator": "GPU",
  "colab": {
   "include_colab_link": true,
   "name": "main.ipynb",
   "provenance": []
  },
  "kernelspec": {
   "display_name": "Python 3",
   "language": "python",
   "name": "python3"
  },
  "language_info": {
   "codemirror_mode": {
    "name": "ipython",
    "version": 3
   },
   "file_extension": ".py",
   "mimetype": "text/x-python",
   "name": "python",
   "nbconvert_exporter": "python",
   "pygments_lexer": "ipython3",
   "version": "3.6.13"
  }
 },
 "nbformat": 4,
 "nbformat_minor": 5
}
