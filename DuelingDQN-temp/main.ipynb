{
 "cells": [
  {
   "cell_type": "code",
   "execution_count": 1,
   "id": "75a0c607",
   "metadata": {
    "colab": {
     "base_uri": "https://localhost:8080/"
    },
    "id": "7f5d7c5a",
    "outputId": "253ca5ec-4d84-4c3f-ba4b-3123197efcf4"
   },
   "outputs": [
    {
     "name": "stdout",
     "output_type": "stream",
     "text": [
      "Requirement already satisfied: gym in /home/jihoon/anaconda3/envs/tf38/lib/python3.8/site-packages (0.18.0)\r\n",
      "Requirement already satisfied: box2d in /home/jihoon/anaconda3/envs/tf38/lib/python3.8/site-packages (2.3.10)\r\n",
      "Requirement already satisfied: numpy>=1.10.4 in /home/jihoon/anaconda3/envs/tf38/lib/python3.8/site-packages (from gym) (1.20.1)\r\n",
      "Requirement already satisfied: Pillow<=7.2.0 in /home/jihoon/anaconda3/envs/tf38/lib/python3.8/site-packages (from gym) (7.2.0)\r\n",
      "Requirement already satisfied: pyglet<=1.5.0,>=1.4.0 in /home/jihoon/anaconda3/envs/tf38/lib/python3.8/site-packages (from gym) (1.5.0)\r\n",
      "Requirement already satisfied: scipy in /home/jihoon/anaconda3/envs/tf38/lib/python3.8/site-packages (from gym) (1.6.2)\r\n",
      "Requirement already satisfied: cloudpickle<1.7.0,>=1.2.0 in /home/jihoon/anaconda3/envs/tf38/lib/python3.8/site-packages (from gym) (1.6.0)\r\n",
      "Requirement already satisfied: future in /home/jihoon/anaconda3/envs/tf38/lib/python3.8/site-packages (from pyglet<=1.5.0,>=1.4.0->gym) (0.18.2)\r\n"
     ]
    }
   ],
   "source": [
    "# dependencies\n",
    "!pip install gym box2d "
   ]
  },
  {
   "cell_type": "code",
   "execution_count": 2,
   "id": "b29fad6c",
   "metadata": {
    "colab": {
     "base_uri": "https://localhost:8080/"
    },
    "id": "58e516fb",
    "outputId": "2988ea47-9601-4e1c-bd19-ad664471c048"
   },
   "outputs": [],
   "source": [
    "import os \n",
    "# os.environ['CUDA_VISIBLE_DEVICES'] = '4' # For Hex\n",
    "# os.environ['KMP_DUPLICATE_LIB_OK']='True' # For Intel Mac"
   ]
  },
  {
   "cell_type": "code",
   "execution_count": 9,
   "id": "c6d5a761",
   "metadata": {
    "id": "3fa7a298"
   },
   "outputs": [],
   "source": [
    "import time\n",
    "import pandas as pd\n",
    "import gym"
   ]
  },
  {
   "cell_type": "code",
   "execution_count": 4,
   "id": "3f0e0fcc",
   "metadata": {},
   "outputs": [],
   "source": [
    "import DuelingDQN as DuDQN"
   ]
  },
  {
   "cell_type": "code",
   "execution_count": 5,
   "id": "735a61fa",
   "metadata": {
    "colab": {
     "base_uri": "https://localhost:8080/"
    },
    "id": "25a4354f",
    "outputId": "da762806-7301-44ee-97b9-0b040c70b313"
   },
   "outputs": [],
   "source": [
    "dqn_agent = DuDQN.Agent(lr=0.0001, gamma=0.99, epsilon=1.0, batch_size=64)"
   ]
  },
  {
   "cell_type": "code",
   "execution_count": 6,
   "id": "245caf99",
   "metadata": {
    "id": "522378a6"
   },
   "outputs": [],
   "source": [
    "env = gym.make(\"LunarLander-v2\")\n",
    "spec = gym.spec(\"LunarLander-v2\")\n",
    "num_episodes = 5000\n",
    "\n",
    "# file_type = 'h5'\n",
    "# file = 'saved_networks/dqn_model0'"
   ]
  },
  {
   "cell_type": "code",
   "execution_count": 7,
   "id": "36362e7f",
   "metadata": {
    "colab": {
     "base_uri": "https://localhost:8080/"
    },
    "id": "c11acd82",
    "outputId": "a3e0a1e1-2d03-4473-8306-7b4886d811f4",
    "scrolled": false
   },
   "outputs": [
    {
     "name": "stdout",
     "output_type": "stream",
     "text": [
      "Episode 50/5000, Score: -102.31554507463436 (0.98), AVG Score: -192.93\n",
      "lr=0.0001 gamma=0.99 Finished 50 episodes in 30.51468367082998 seconds. Running...\n",
      "Episode 100/5000, Score: -149.85050710592546 (0.95), AVG Score: -183.13\n",
      "lr=0.0001 gamma=0.99 Finished 50 episodes in 30.283938684035093 seconds. Running...\n",
      "Episode 150/5000, Score: -78.0557068027341 (0.93), AVG Score: -158.02\n",
      "lr=0.0001 gamma=0.99 Finished 50 episodes in 38.87372001307085 seconds. Running...\n",
      "Episode 200/5000, Score: -126.02880514445341 (0.9), AVG Score: -138.59\n",
      "lr=0.0001 gamma=0.99 Finished 50 episodes in 31.724553738953546 seconds. Running...\n",
      "Episode 250/5000, Score: -99.72279981002218 (0.88), AVG Score: -130.07\n",
      "lr=0.0001 gamma=0.99 Finished 50 episodes in 32.11451042513363 seconds. Running...\n",
      "Episode 300/5000, Score: -175.04296675913756 (0.86), AVG Score: -115.98\n",
      "lr=0.0001 gamma=0.99 Finished 50 episodes in 32.0440015620552 seconds. Running...\n",
      "Episode 350/5000, Score: -21.372323068857057 (0.84), AVG Score: -107.49\n",
      "lr=0.0001 gamma=0.99 Finished 50 episodes in 33.23732770583592 seconds. Running...\n",
      "Episode 400/5000, Score: -411.06434768099007 (0.82), AVG Score: -111.82\n",
      "lr=0.0001 gamma=0.99 Finished 50 episodes in 33.31190840899944 seconds. Running...\n",
      "Episode 450/5000, Score: -91.11921377604348 (0.8), AVG Score: -103.92\n",
      "lr=0.0001 gamma=0.99 Finished 50 episodes in 36.23463476798497 seconds. Running...\n",
      "Episode 500/5000, Score: -106.62059564943574 (0.78), AVG Score: -91.38\n",
      "lr=0.0001 gamma=0.99 Finished 50 episodes in 35.2506341249682 seconds. Running...\n",
      "Episode 550/5000, Score: -24.620335835119036 (0.76), AVG Score: -93.58\n",
      "lr=0.0001 gamma=0.99 Finished 50 episodes in 36.49791962793097 seconds. Running...\n",
      "Episode 600/5000, Score: -46.717856453467974 (0.74), AVG Score: -93.5\n",
      "lr=0.0001 gamma=0.99 Finished 50 episodes in 37.66741662286222 seconds. Running...\n",
      "Episode 650/5000, Score: -130.30699587918176 (0.72), AVG Score: -89.1\n",
      "lr=0.0001 gamma=0.99 Finished 50 episodes in 39.00675627402961 seconds. Running...\n",
      "Episode 700/5000, Score: -32.62739676219033 (0.7), AVG Score: -85.72\n",
      "lr=0.0001 gamma=0.99 Finished 50 episodes in 36.24158740392886 seconds. Running...\n",
      "Episode 850/5000, Score: -71.10676290317897 (0.65), AVG Score: -62.96\n",
      "lr=0.0001 gamma=0.99 Finished 50 episodes in 43.79035226418637 seconds. Running...\n",
      "Episode 900/5000, Score: -33.904383729953196 (0.64), AVG Score: -62.05\n",
      "lr=0.0001 gamma=0.99 Finished 50 episodes in 45.078005495946854 seconds. Running...\n",
      "Episode 950/5000, Score: -72.6072808132874 (0.62), AVG Score: -64.03\n",
      "lr=0.0001 gamma=0.99 Finished 50 episodes in 44.91873002611101 seconds. Running...\n",
      "Episode 1000/5000, Score: -19.600558913416933 (0.61), AVG Score: -53.61\n",
      "lr=0.0001 gamma=0.99 Finished 50 episodes in 44.16225571883842 seconds. Running...\n",
      "Episode 1050/5000, Score: -65.98729885078302 (0.59), AVG Score: -49.07\n",
      "lr=0.0001 gamma=0.99 Finished 50 episodes in 46.4645499009639 seconds. Running...\n",
      "Episode 1100/5000, Score: -74.0337801309853 (0.58), AVG Score: -56.01\n",
      "lr=0.0001 gamma=0.99 Finished 50 episodes in 47.579113226849586 seconds. Running...\n",
      "Episode 1150/5000, Score: 9.098017487281908 (0.56), AVG Score: -57.85\n",
      "lr=0.0001 gamma=0.99 Finished 50 episodes in 53.30555938696489 seconds. Running...\n",
      "Episode 1200/5000, Score: -35.24689691749265 (0.55), AVG Score: -58.69\n",
      "lr=0.0001 gamma=0.99 Finished 50 episodes in 59.94002791796811 seconds. Running...\n",
      "Episode 1250/5000, Score: -152.44972601728293 (0.54), AVG Score: -51.57\n",
      "lr=0.0001 gamma=0.99 Finished 50 episodes in 64.2732830888126 seconds. Running...\n",
      "Episode 2250/5000, Score: 19.780764039635557 (0.32), AVG Score: 58.12\n",
      "lr=0.0001 gamma=0.99 Finished 50 episodes in 422.6386659629643 seconds. Running...\n",
      "Episode 2300/5000, Score: 140.17538439351887 (0.32), AVG Score: 58.38\n",
      "lr=0.0001 gamma=0.99 Finished 50 episodes in 408.9490268959198 seconds. Running...\n",
      "Episode 2350/5000, Score: 19.938595410871486 (0.31), AVG Score: 38.12\n",
      "lr=0.0001 gamma=0.99 Finished 50 episodes in 267.737629838055 seconds. Running...\n",
      "Episode 2400/5000, Score: -11.707448859956244 (0.3), AVG Score: 42.15\n",
      "lr=0.0001 gamma=0.99 Finished 50 episodes in 445.2910528178327 seconds. Running...\n",
      "Episode 2450/5000, Score: 193.2919795664468 (0.29), AVG Score: 52.72\n",
      "lr=0.0001 gamma=0.99 Finished 50 episodes in 475.76985336793587 seconds. Running...\n",
      "Episode 2500/5000, Score: 28.99768204696548 (0.29), AVG Score: 51.01\n",
      "lr=0.0001 gamma=0.99 Finished 50 episodes in 352.3695123801008 seconds. Running...\n",
      "Episode 2550/5000, Score: 134.90197501978847 (0.28), AVG Score: 73.0\n",
      "lr=0.0001 gamma=0.99 Finished 50 episodes in 457.20906375092454 seconds. Running...\n",
      "Episode 2600/5000, Score: 258.7299044958746 (0.27), AVG Score: 93.42\n",
      "lr=0.0001 gamma=0.99 Finished 50 episodes in 456.96911121113226 seconds. Running...\n",
      "Episode 2650/5000, Score: -29.34145204599548 (0.27), AVG Score: 90.19\n",
      "lr=0.0001 gamma=0.99 Finished 50 episodes in 457.4718563170172 seconds. Running...\n",
      "Episode 2700/5000, Score: 127.73212006565464 (0.26), AVG Score: 85.54\n",
      "lr=0.0001 gamma=0.99 Finished 50 episodes in 451.86227855901234 seconds. Running...\n",
      "Episode 2750/5000, Score: 295.2015946895447 (0.25), AVG Score: 90.62\n",
      "lr=0.0001 gamma=0.99 Finished 50 episodes in 469.6118585639633 seconds. Running...\n",
      "Episode 2800/5000, Score: 172.44066582236604 (0.25), AVG Score: 86.41\n",
      "lr=0.0001 gamma=0.99 Finished 50 episodes in 475.08152597094886 seconds. Running...\n",
      "Episode 2850/5000, Score: -30.679918698394793 (0.24), AVG Score: 95.25\n",
      "lr=0.0001 gamma=0.99 Finished 50 episodes in 475.6271260890644 seconds. Running...\n",
      "Episode 2900/5000, Score: 125.9564888457775 (0.23), AVG Score: 126.08\n",
      "lr=0.0001 gamma=0.99 Finished 50 episodes in 523.3971163660754 seconds. Running...\n",
      "Episode 2950/5000, Score: 117.68732531908422 (0.23), AVG Score: 138.86\n",
      "lr=0.0001 gamma=0.99 Finished 50 episodes in 546.242878200952 seconds. Running...\n",
      "Episode 3000/5000, Score: -1.137985931666572 (0.22), AVG Score: 129.63\n",
      "lr=0.0001 gamma=0.99 Finished 50 episodes in 558.8109791940078 seconds. Running...\n",
      "Episode 3050/5000, Score: 54.583391095899856 (0.22), AVG Score: 113.64\n",
      "lr=0.0001 gamma=0.99 Finished 50 episodes in 449.4994975719601 seconds. Running...\n",
      "Episode 3100/5000, Score: 165.05855221572978 (0.21), AVG Score: 118.34\n",
      "lr=0.0001 gamma=0.99 Finished 50 episodes in 462.2595684060361 seconds. Running...\n",
      "Episode 3150/5000, Score: 96.13196038701933 (0.21), AVG Score: 137.47\n",
      "lr=0.0001 gamma=0.99 Finished 50 episodes in 487.37437892891467 seconds. Running...\n",
      "Episode 3200/5000, Score: 160.77874826428146 (0.2), AVG Score: 135.64\n",
      "lr=0.0001 gamma=0.99 Finished 50 episodes in 450.52685051294975 seconds. Running...\n",
      "Episode 3250/5000, Score: 162.23771022785164 (0.2), AVG Score: 146.52\n",
      "lr=0.0001 gamma=0.99 Finished 50 episodes in 530.2044760100543 seconds. Running...\n",
      "INFO:tensorflow:Assets written to: saved_networks/duelingdqn_model_3259_0.0001_0.99/assets\n",
      "Finished in 15350.076567915035 seconds\n"
     ]
    }
   ],
   "source": [
    "t_start = time.perf_counter()\n",
    "\n",
    "\n",
    "scores, avg_scores = dqn_agent.train_model(env, num_episodes, earlystopping=True)\n",
    "    \n",
    "t_end = time.perf_counter()\n",
    "\n",
    "print(f\"Finished in {t_end-t_start} seconds\")"
   ]
  },
  {
   "cell_type": "code",
   "execution_count": 10,
   "id": "57abc432",
   "metadata": {
    "id": "Ne1s_J1Z1pQO"
   },
   "outputs": [
    {
     "data": {
      "text/html": [
       "<div>\n",
       "<style scoped>\n",
       "    .dataframe tbody tr th:only-of-type {\n",
       "        vertical-align: middle;\n",
       "    }\n",
       "\n",
       "    .dataframe tbody tr th {\n",
       "        vertical-align: top;\n",
       "    }\n",
       "\n",
       "    .dataframe thead th {\n",
       "        text-align: right;\n",
       "    }\n",
       "</style>\n",
       "<table border=\"1\" class=\"dataframe\">\n",
       "  <thead>\n",
       "    <tr style=\"text-align: right;\">\n",
       "      <th></th>\n",
       "      <th>lr</th>\n",
       "      <th>gamma</th>\n",
       "      <th>scores</th>\n",
       "      <th>avg_scores</th>\n",
       "    </tr>\n",
       "  </thead>\n",
       "  <tbody>\n",
       "    <tr>\n",
       "      <th>0</th>\n",
       "      <td>0.0001</td>\n",
       "      <td>0.99</td>\n",
       "      <td>-48.594858</td>\n",
       "      <td>-48.594858</td>\n",
       "    </tr>\n",
       "    <tr>\n",
       "      <th>1</th>\n",
       "      <td>0.0001</td>\n",
       "      <td>0.99</td>\n",
       "      <td>-436.584025</td>\n",
       "      <td>-242.589442</td>\n",
       "    </tr>\n",
       "    <tr>\n",
       "      <th>2</th>\n",
       "      <td>0.0001</td>\n",
       "      <td>0.99</td>\n",
       "      <td>-332.072278</td>\n",
       "      <td>-272.417054</td>\n",
       "    </tr>\n",
       "    <tr>\n",
       "      <th>3</th>\n",
       "      <td>0.0001</td>\n",
       "      <td>0.99</td>\n",
       "      <td>-60.382980</td>\n",
       "      <td>-219.408535</td>\n",
       "    </tr>\n",
       "    <tr>\n",
       "      <th>4</th>\n",
       "      <td>0.0001</td>\n",
       "      <td>0.99</td>\n",
       "      <td>-108.878813</td>\n",
       "      <td>-197.302591</td>\n",
       "    </tr>\n",
       "    <tr>\n",
       "      <th>...</th>\n",
       "      <td>...</td>\n",
       "      <td>...</td>\n",
       "      <td>...</td>\n",
       "      <td>...</td>\n",
       "    </tr>\n",
       "    <tr>\n",
       "      <th>3254</th>\n",
       "      <td>0.0001</td>\n",
       "      <td>0.99</td>\n",
       "      <td>-8.112356</td>\n",
       "      <td>147.041741</td>\n",
       "    </tr>\n",
       "    <tr>\n",
       "      <th>3255</th>\n",
       "      <td>0.0001</td>\n",
       "      <td>0.99</td>\n",
       "      <td>144.140919</td>\n",
       "      <td>147.230212</td>\n",
       "    </tr>\n",
       "    <tr>\n",
       "      <th>3256</th>\n",
       "      <td>0.0001</td>\n",
       "      <td>0.99</td>\n",
       "      <td>177.038983</td>\n",
       "      <td>148.857368</td>\n",
       "    </tr>\n",
       "    <tr>\n",
       "      <th>3257</th>\n",
       "      <td>0.0001</td>\n",
       "      <td>0.99</td>\n",
       "      <td>277.947195</td>\n",
       "      <td>149.835962</td>\n",
       "    </tr>\n",
       "    <tr>\n",
       "      <th>3258</th>\n",
       "      <td>0.0001</td>\n",
       "      <td>0.99</td>\n",
       "      <td>283.098945</td>\n",
       "      <td>151.379431</td>\n",
       "    </tr>\n",
       "  </tbody>\n",
       "</table>\n",
       "<p>3259 rows × 4 columns</p>\n",
       "</div>"
      ],
      "text/plain": [
       "          lr  gamma      scores  avg_scores\n",
       "0     0.0001   0.99  -48.594858  -48.594858\n",
       "1     0.0001   0.99 -436.584025 -242.589442\n",
       "2     0.0001   0.99 -332.072278 -272.417054\n",
       "3     0.0001   0.99  -60.382980 -219.408535\n",
       "4     0.0001   0.99 -108.878813 -197.302591\n",
       "...      ...    ...         ...         ...\n",
       "3254  0.0001   0.99   -8.112356  147.041741\n",
       "3255  0.0001   0.99  144.140919  147.230212\n",
       "3256  0.0001   0.99  177.038983  148.857368\n",
       "3257  0.0001   0.99  277.947195  149.835962\n",
       "3258  0.0001   0.99  283.098945  151.379431\n",
       "\n",
       "[3259 rows x 4 columns]"
      ]
     },
     "execution_count": 10,
     "metadata": {},
     "output_type": "execute_result"
    }
   ],
   "source": [
    "df = pd.DataFrame({'lr':0.0001, 'gamma':0.99, 'scores':scores, 'avg_scores':avg_scores})\n",
    "df"
   ]
  },
  {
   "cell_type": "code",
   "execution_count": 11,
   "id": "727117e1",
   "metadata": {},
   "outputs": [],
   "source": [
    "df.to_csv(\"df_data_DuelingDQN_0.0001_0.99_es.csv\", index=False)"
   ]
  },
  {
   "cell_type": "code",
   "execution_count": null,
   "id": "5a19c299",
   "metadata": {},
   "outputs": [],
   "source": []
  }
 ],
 "metadata": {
  "accelerator": "GPU",
  "colab": {
   "include_colab_link": true,
   "name": "main.ipynb",
   "provenance": []
  },
  "kernelspec": {
   "display_name": "Python 3",
   "language": "python",
   "name": "python3"
  },
  "language_info": {
   "codemirror_mode": {
    "name": "ipython",
    "version": 3
   },
   "file_extension": ".py",
   "mimetype": "text/x-python",
   "name": "python",
   "nbconvert_exporter": "python",
   "pygments_lexer": "ipython3",
   "version": "3.8.8"
  }
 },
 "nbformat": 4,
 "nbformat_minor": 5
}
