{
 "cells": [
  {
   "cell_type": "code",
   "execution_count": 2,
   "id": "d9bd1f88",
   "metadata": {},
   "outputs": [],
   "source": [
    "import numpy as np\n",
    "import pandas as pd\n",
    "import matplotlib.pyplot as plt"
   ]
  },
  {
   "cell_type": "code",
   "execution_count": 3,
   "id": "0dc0a274",
   "metadata": {},
   "outputs": [],
   "source": [
    "df_dqn_path = 'DQN/df_data_DQN.csv'\n",
    "df_duelingdqn_path = 'DuelingDQN-temp/df_data_DuelingDQN.csv'"
   ]
  },
  {
   "cell_type": "code",
   "execution_count": 6,
   "id": "1a89423a",
   "metadata": {},
   "outputs": [],
   "source": [
    "df_duelingdqn = pd.read_csv(df_duelingdqn_path)\n",
    "df_duelingdqn.drop('Unnamed: 0', axis=1, inplace=True)"
   ]
  },
  {
   "cell_type": "code",
   "execution_count": 7,
   "id": "e43d75a2",
   "metadata": {},
   "outputs": [
    {
     "data": {
      "text/html": [
       "<div>\n",
       "<style scoped>\n",
       "    .dataframe tbody tr th:only-of-type {\n",
       "        vertical-align: middle;\n",
       "    }\n",
       "\n",
       "    .dataframe tbody tr th {\n",
       "        vertical-align: top;\n",
       "    }\n",
       "\n",
       "    .dataframe thead th {\n",
       "        text-align: right;\n",
       "    }\n",
       "</style>\n",
       "<table border=\"1\" class=\"dataframe\">\n",
       "  <thead>\n",
       "    <tr style=\"text-align: right;\">\n",
       "      <th></th>\n",
       "      <th>lr</th>\n",
       "      <th>gamma</th>\n",
       "      <th>scores</th>\n",
       "      <th>avg_scores</th>\n",
       "    </tr>\n",
       "  </thead>\n",
       "  <tbody>\n",
       "    <tr>\n",
       "      <th>0</th>\n",
       "      <td>0.0010</td>\n",
       "      <td>0.990</td>\n",
       "      <td>[-201.88356252889486, -209.03915627426687, -27...</td>\n",
       "      <td>[-201.88356252889486, -205.46135940158086, -22...</td>\n",
       "    </tr>\n",
       "    <tr>\n",
       "      <th>1</th>\n",
       "      <td>0.0010</td>\n",
       "      <td>0.999</td>\n",
       "      <td>[-201.88356252889486, -209.03915627426687, -27...</td>\n",
       "      <td>[-201.88356252889486, -205.46135940158086, -22...</td>\n",
       "    </tr>\n",
       "    <tr>\n",
       "      <th>2</th>\n",
       "      <td>0.0001</td>\n",
       "      <td>0.990</td>\n",
       "      <td>[-201.88356252889486, -209.03915627426687, -27...</td>\n",
       "      <td>[-201.88356252889486, -205.46135940158086, -22...</td>\n",
       "    </tr>\n",
       "    <tr>\n",
       "      <th>3</th>\n",
       "      <td>0.0001</td>\n",
       "      <td>0.999</td>\n",
       "      <td>[-201.88356252889486, -209.03915627426687, -27...</td>\n",
       "      <td>[-201.88356252889486, -205.46135940158086, -22...</td>\n",
       "    </tr>\n",
       "  </tbody>\n",
       "</table>\n",
       "</div>"
      ],
      "text/plain": [
       "       lr  gamma                                             scores  \\\n",
       "0  0.0010  0.990  [-201.88356252889486, -209.03915627426687, -27...   \n",
       "1  0.0010  0.999  [-201.88356252889486, -209.03915627426687, -27...   \n",
       "2  0.0001  0.990  [-201.88356252889486, -209.03915627426687, -27...   \n",
       "3  0.0001  0.999  [-201.88356252889486, -209.03915627426687, -27...   \n",
       "\n",
       "                                          avg_scores  \n",
       "0  [-201.88356252889486, -205.46135940158086, -22...  \n",
       "1  [-201.88356252889486, -205.46135940158086, -22...  \n",
       "2  [-201.88356252889486, -205.46135940158086, -22...  \n",
       "3  [-201.88356252889486, -205.46135940158086, -22...  "
      ]
     },
     "execution_count": 7,
     "metadata": {},
     "output_type": "execute_result"
    }
   ],
   "source": [
    "df_duelingdqn"
   ]
  },
  {
   "cell_type": "code",
   "execution_count": null,
   "id": "58cc104b",
   "metadata": {},
   "outputs": [],
   "source": [
    "fo"
   ]
  },
  {
   "cell_type": "code",
   "execution_count": 12,
   "id": "3591a719",
   "metadata": {},
   "outputs": [
    {
     "data": {
      "text/html": [
       "<div>\n",
       "<style scoped>\n",
       "    .dataframe tbody tr th:only-of-type {\n",
       "        vertical-align: middle;\n",
       "    }\n",
       "\n",
       "    .dataframe tbody tr th {\n",
       "        vertical-align: top;\n",
       "    }\n",
       "\n",
       "    .dataframe thead th {\n",
       "        text-align: right;\n",
       "    }\n",
       "</style>\n",
       "<table border=\"1\" class=\"dataframe\">\n",
       "  <thead>\n",
       "    <tr style=\"text-align: right;\">\n",
       "      <th></th>\n",
       "      <th>lr</th>\n",
       "      <th>gamma</th>\n",
       "      <th>scores</th>\n",
       "      <th>avg_scores</th>\n",
       "    </tr>\n",
       "  </thead>\n",
       "  <tbody>\n",
       "    <tr>\n",
       "      <th>0</th>\n",
       "      <td>0.01</td>\n",
       "      <td>0.99</td>\n",
       "      <td>[-164.7910330701573, -295.10416502197296, -387...</td>\n",
       "      <td>[-164.7910330701573, -229.94759904606514, -282...</td>\n",
       "    </tr>\n",
       "    <tr>\n",
       "      <th>1</th>\n",
       "      <td>0.01</td>\n",
       "      <td>0.99</td>\n",
       "      <td>[-164.7910330701573, -295.10416502197296, -387...</td>\n",
       "      <td>[-164.7910330701573, -229.94759904606514, -282...</td>\n",
       "    </tr>\n",
       "    <tr>\n",
       "      <th>2</th>\n",
       "      <td>0.01</td>\n",
       "      <td>0.99</td>\n",
       "      <td>[-164.7910330701573, -295.10416502197296, -387...</td>\n",
       "      <td>[-164.7910330701573, -229.94759904606514, -282...</td>\n",
       "    </tr>\n",
       "    <tr>\n",
       "      <th>3</th>\n",
       "      <td>0.01</td>\n",
       "      <td>0.99</td>\n",
       "      <td>[-164.7910330701573, -295.10416502197296, -387...</td>\n",
       "      <td>[-164.7910330701573, -229.94759904606514, -282...</td>\n",
       "    </tr>\n",
       "  </tbody>\n",
       "</table>\n",
       "</div>"
      ],
      "text/plain": [
       "     lr  gamma                                             scores  \\\n",
       "0  0.01   0.99  [-164.7910330701573, -295.10416502197296, -387...   \n",
       "1  0.01   0.99  [-164.7910330701573, -295.10416502197296, -387...   \n",
       "2  0.01   0.99  [-164.7910330701573, -295.10416502197296, -387...   \n",
       "3  0.01   0.99  [-164.7910330701573, -295.10416502197296, -387...   \n",
       "\n",
       "                                          avg_scores  \n",
       "0  [-164.7910330701573, -229.94759904606514, -282...  \n",
       "1  [-164.7910330701573, -229.94759904606514, -282...  \n",
       "2  [-164.7910330701573, -229.94759904606514, -282...  \n",
       "3  [-164.7910330701573, -229.94759904606514, -282...  "
      ]
     },
     "execution_count": 12,
     "metadata": {},
     "output_type": "execute_result"
    }
   ],
   "source": [
    "import ast\n",
    "\n",
    "df = []\n",
    "for row in df_data['0'].values:\n",
    "    data = ast.literal_eval(df_data['0'].values[0])\n",
    "    df.append(data)\n",
    "\n",
    "df = pd.DataFrame(df)\n",
    "df"
   ]
  },
  {
   "cell_type": "code",
   "execution_count": null,
   "id": "542695bd",
   "metadata": {},
   "outputs": [],
   "source": []
  }
 ],
 "metadata": {
  "kernelspec": {
   "display_name": "Python 3",
   "language": "python",
   "name": "python3"
  },
  "language_info": {
   "codemirror_mode": {
    "name": "ipython",
    "version": 3
   },
   "file_extension": ".py",
   "mimetype": "text/x-python",
   "name": "python",
   "nbconvert_exporter": "python",
   "pygments_lexer": "ipython3",
   "version": "3.8.5"
  }
 },
 "nbformat": 4,
 "nbformat_minor": 5
}
