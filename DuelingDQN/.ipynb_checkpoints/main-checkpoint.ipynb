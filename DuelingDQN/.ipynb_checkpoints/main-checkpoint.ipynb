{
 "cells": [
  {
   "cell_type": "code",
   "execution_count": 1,
   "metadata": {
    "ExecuteTime": {
     "end_time": "2021-04-29T10:04:23.860962Z",
     "start_time": "2021-04-29T10:04:19.680915Z"
    }
   },
   "outputs": [],
   "source": [
    "from modified_agent import Agent\n",
    "import gym"
   ]
  },
  {
   "cell_type": "code",
   "execution_count": 2,
   "metadata": {
    "ExecuteTime": {
     "end_time": "2021-04-29T10:04:23.929468Z",
     "start_time": "2021-04-29T10:04:23.904493Z"
    }
   },
   "outputs": [],
   "source": [
    "env = gym.make(\"LunarLander-v2\")\n",
    "spec = gym.spec(\"LunarLander-v2\")\n",
    "train = 0\n",
    "test = 1\n",
    "num_episodes = 100\n",
    "graph = True\n",
    "\n",
    "file_type = 'tf'\n",
    "file = 'saved_networks/duelingdqn_model0'"
   ]
  },
  {
   "cell_type": "code",
   "execution_count": null,
   "metadata": {
    "ExecuteTime": {
     "start_time": "2021-04-29T10:04:22.177Z"
    }
   },
   "outputs": [
    {
     "name": "stdout",
     "output_type": "stream",
     "text": [
      "Episode 0/100, Score: 235.17365583028328 (0.0), AVG Score: 235.17365583028328\n",
      "Episode 1/100, Score: 253.20740865243945 (0.0), AVG Score: 244.19053224136138\n",
      "Episode 2/100, Score: 267.3485156146601 (0.0), AVG Score: 251.90986003246095\n",
      "Episode 3/100, Score: 281.29765463347076 (0.0), AVG Score: 259.2568086827134\n",
      "Episode 4/100, Score: 265.6211585694019 (0.0), AVG Score: 260.5296786600511\n",
      "Episode 5/100, Score: 278.5542681298939 (0.0), AVG Score: 263.5337769050249\n",
      "Episode 6/100, Score: 283.33408137510827 (0.0), AVG Score: 266.3623918293225\n",
      "Episode 7/100, Score: 233.3302136856388 (0.0), AVG Score: 262.23336956136205\n",
      "Episode 8/100, Score: 275.40969502158316 (0.0), AVG Score: 263.6974057236088\n",
      "Episode 9/100, Score: 238.83245002074077 (0.0), AVG Score: 261.21091015332206\n",
      "Episode 10/100, Score: 239.9912143217266 (0.0), AVG Score: 259.28184689590427\n",
      "Episode 11/100, Score: 252.15725800992425 (0.0), AVG Score: 258.6881311554059\n",
      "Episode 12/100, Score: 282.5316761649997 (0.0), AVG Score: 260.52225000229777\n",
      "Episode 13/100, Score: 239.25550998408733 (0.0), AVG Score: 259.00319714385415\n",
      "Episode 14/100, Score: 280.51871986522906 (0.0), AVG Score: 260.43756532527914\n",
      "Episode 15/100, Score: 257.3881019295927 (0.0), AVG Score: 260.24697386304877\n",
      "Episode 16/100, Score: 233.78560113764203 (0.0), AVG Score: 258.69042252626014\n"
     ]
    }
   ],
   "source": [
    "duelingdqn_agent = Agent(lr=0.00075, discount_factor=0.99, num_actions=4, epsilon=1.0, batch_size=64, input_dim=[8])\n",
    "\n",
    "if train and not test:\n",
    "    duelingdqn_agent.train_model(env, num_episodes, graph)\n",
    "else:\n",
    "    duelingdqn_agent.test(env, num_episodes, file_type, file, graph)"
   ]
  },
  {
   "cell_type": "code",
   "execution_count": 4,
   "metadata": {
    "ExecuteTime": {
     "end_time": "2021-04-28T17:08:12.861914Z",
     "start_time": "2021-04-28T17:08:12.854336Z"
    }
   },
   "outputs": [
    {
     "data": {
      "text/plain": [
       "([-82.9648642155326,\n",
       "  -472.05028159557924,\n",
       "  -280.2247328249254,\n",
       "  -196.57499483864862],\n",
       " [-82.9648642155326,\n",
       "  -277.5075729055559,\n",
       "  -278.4132928786791,\n",
       "  -257.95371836867145])"
      ]
     },
     "execution_count": 4,
     "metadata": {},
     "output_type": "execute_result"
    }
   ],
   "source": [
    "duelingdqn_agent.score()"
   ]
  },
  {
   "cell_type": "code",
   "execution_count": null,
   "metadata": {},
   "outputs": [],
   "source": []
  }
 ],
 "metadata": {
  "kernelspec": {
   "display_name": "Python 3",
   "language": "python",
   "name": "python3"
  },
  "language_info": {
   "codemirror_mode": {
    "name": "ipython",
    "version": 3
   },
   "file_extension": ".py",
   "mimetype": "text/x-python",
   "name": "python",
   "nbconvert_exporter": "python",
   "pygments_lexer": "ipython3",
   "version": "3.8.3"
  },
  "toc": {
   "base_numbering": 1,
   "nav_menu": {},
   "number_sections": true,
   "sideBar": true,
   "skip_h1_title": false,
   "title_cell": "Table of Contents",
   "title_sidebar": "Contents",
   "toc_cell": false,
   "toc_position": {},
   "toc_section_display": true,
   "toc_window_display": false
  },
  "varInspector": {
   "cols": {
    "lenName": 16,
    "lenType": 16,
    "lenVar": 40
   },
   "kernels_config": {
    "python": {
     "delete_cmd_postfix": "",
     "delete_cmd_prefix": "del ",
     "library": "var_list.py",
     "varRefreshCmd": "print(var_dic_list())"
    },
    "r": {
     "delete_cmd_postfix": ") ",
     "delete_cmd_prefix": "rm(",
     "library": "var_list.r",
     "varRefreshCmd": "cat(var_dic_list()) "
    }
   },
   "types_to_exclude": [
    "module",
    "function",
    "builtin_function_or_method",
    "instance",
    "_Feature"
   ],
   "window_display": false
  }
 },
 "nbformat": 4,
 "nbformat_minor": 4
}
